{
 "cells": [
  {
   "cell_type": "code",
   "execution_count": 1,
   "metadata": {},
   "outputs": [],
   "source": [
    "from langchain.document_loaders import UnstructuredURLLoader"
   ]
  },
  {
   "cell_type": "code",
   "execution_count": 2,
   "metadata": {},
   "outputs": [
    {
     "name": "stderr",
     "output_type": "stream",
     "text": [
      "Error fetching or processing https://en.wikipedia.org/wiki/2024_ICC_Men%27s_T20_World_Cup, exception: HTTPSConnectionPool(host='en.wikipedia.org', port=443): Max retries exceeded with url: /wiki/2024_ICC_Men%27s_T20_World_Cup (Caused by NameResolutionError(\"<urllib3.connection.HTTPSConnection object at 0x0000020CEDFDFF90>: Failed to resolve 'en.wikipedia.org' ([Errno 11001] getaddrinfo failed)\"))\n"
     ]
    }
   ],
   "source": [
    "loader=UnstructuredURLLoader(urls=[\"https://en.wikipedia.org/wiki/2024_ICC_Men%27s_T20_World_Cup\"])\n",
    "data=loader.load()"
   ]
  },
  {
   "cell_type": "code",
   "execution_count": 5,
   "metadata": {},
   "outputs": [
    {
     "data": {
      "text/plain": [
       "32561"
      ]
     },
     "execution_count": 5,
     "metadata": {},
     "output_type": "execute_result"
    }
   ],
   "source": [
    "len(data)"
   ]
  },
  {
   "cell_type": "code",
   "execution_count": 8,
   "metadata": {},
   "outputs": [
    {
     "data": {
      "text/plain": [
       "Document(page_content='age: 90\\nworkclass: ?\\nfnlwgt: 77053\\neducation: HS-grad\\neducation.num: 9\\nmarital.status: Widowed\\noccupation: ?\\nrelationship: Not-in-family\\nrace: White\\nsex: Female\\ncapital.gain: 0\\ncapital.loss: 4356\\nhours.per.week: 40\\nnative.country: United-States\\nincome: <=50K', metadata={'source': 'adult.csv', 'row': 0})"
      ]
     },
     "execution_count": 8,
     "metadata": {},
     "output_type": "execute_result"
    }
   ],
   "source": [
    "data[0]"
   ]
  },
  {
   "cell_type": "code",
   "execution_count": null,
   "metadata": {},
   "outputs": [],
   "source": []
  }
 ],
 "metadata": {
  "kernelspec": {
   "display_name": "news",
   "language": "python",
   "name": "python3"
  },
  "language_info": {
   "codemirror_mode": {
    "name": "ipython",
    "version": 3
   },
   "file_extension": ".py",
   "mimetype": "text/x-python",
   "name": "python",
   "nbconvert_exporter": "python",
   "pygments_lexer": "ipython3",
   "version": "3.11.4"
  }
 },
 "nbformat": 4,
 "nbformat_minor": 2
}
